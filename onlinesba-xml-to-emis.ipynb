{
 "cells": [
  {
   "cell_type": "code",
   "execution_count": null,
   "metadata": {},
   "outputs": [],
   "source": [
    "%%time\n",
    "###############################################################################\n",
    "# This notebook focuses on loading data retrieved from OnlineSBA's            #\n",
    "# RESTful API into the Pacific EMIS database directly                         #\n",
    "###############################################################################\n",
    "\n",
    "# import everything we need here\n",
    "import os\n",
    "import json\n",
    "\n",
    "# database stuff\n",
    "import pyodbc\n",
    "\n",
    "# Initial setup\n",
    "test = 'MISAT' # NMCT\n",
    "country = 'RMI' # FSM\n",
    "cwd = os.getcwd()\n",
    "local_path = os.path.abspath('/mnt/h/Development/Pacific EMIS/repositories-data/pacific-emis-exams/')\n",
    "data_dir = os.path.join(local_path, country+'/'+test+'/exams-xml-data/')\n",
    "save_path = os.path.join(cwd, data_dir)\n",
    "os.makedirs(save_path, exist_ok=True)\n",
    "\n",
    "# Configuration\n",
    "with open('config.json', 'r') as file:\n",
    "     config = json.load(file)"
   ]
  },
  {
   "cell_type": "code",
   "execution_count": null,
   "metadata": {},
   "outputs": [],
   "source": [
    "# Establish a connection to the MS SQL Server\n",
    "# Here this was tricky as I am running Jupyter Lab from the Windows Linux Subsystem (WSL 2) on Debian 10\n",
    "# I have to install MS SQL Server Driver on Debian (https://docs.microsoft.com/en-us/sql/connect/odbc/linux-mac/installing-the-microsoft-odbc-driver-for-sql-server?view=sql-server-ver15)\n",
    "# Then I was getting SSL unsupported so I downgraded the minimum TLS version on Debian's SSL and trust self sign cert\n",
    "# and a couple of hours after I got back to work...argh!\n",
    "# A less experienced user should stick to running the Jupyter Lab directly in Windows\n",
    "from sqlalchemy import create_engine\n",
    "\n",
    "# Establish a database server connection\n",
    "conn = \"\"\"\n",
    "    Driver={{ODBC Driver 17 for SQL Server}};\n",
    "    Server={},{};\n",
    "    Database={};\n",
    "    authentication=SqlPassword;UID={};PWD={};\n",
    "    TrustServerCertificate=yes;\n",
    "    autocommit=True\n",
    "    \"\"\".format(config['server_ip'], config['server_port'], config['database'], config['uid'], config['pwd'])\n",
    "\n",
    "sql_conn = pyodbc.connect(conn)\n",
    "\n",
    "cursor = sql_conn.cursor()\n",
    "cursor.execute('SELECT schNo, schName FROM Schools')\n",
    "\n",
    "for row in cursor:\n",
    "    print(row)\n",
    "cursor.fetchone()    "
   ]
  },
  {
   "cell_type": "code",
   "execution_count": null,
   "metadata": {},
   "outputs": [],
   "source": [
    "def load_file(xml_f):\n",
    "    \"\"\"Loads an XML file with Students Exam data for a particular exam and year into the SQL DB.\n",
    "\n",
    "    Parameters\n",
    "    ----------\n",
    "    xml_f : str, required\n",
    "        The filename of the XML file\n",
    "\n",
    "    Raises\n",
    "    ------\n",
    "    NotImplementedError\n",
    "        Could raise unknown error. Implement if it happens\n",
    "    \"\"\"\n",
    "\n",
    "    with open(xml_f, 'r') as f:\n",
    "        # Check if there is data\n",
    "        xml_str = f.read()\n",
    "        root = etree.fromstring(xml_str)\n",
    "        #print(etree.tostring(root, pretty_print=True).decode())    \n",
    "        if root.find('.//Student') is not None:\n",
    "            print(\"Processing student data\", xml_f, \"into database\")\n",
    "            sql = 'exec pExamWrite.loadExam @xml=?, @fileReference=?, @user=?'\n",
    "            params = (xml_str,'357156F1-D60F-4600-A0EC-43F249CB2CBB','ghachey@nuzusys.com')\n",
    "            cursor.execute(sql, params)\n",
    "            cursor.commit()\n",
    "        else:\n",
    "            print(\"There is no student data, nothing to do\")\n",
    "            pass"
   ]
  },
  {
   "cell_type": "code",
   "execution_count": null,
   "metadata": {},
   "outputs": [],
   "source": [
    "%%time\n",
    "\n",
    "# Now we've got a connection to the SQL Server we can load and process all the XML exams data files\n",
    "# This cell is mostly for experimenting and does it with an individual file.\n",
    "\n",
    "import os\n",
    "from lxml import etree\n",
    "\n",
    "file = 'misat-B03-2012-2013-test.xml' # test with data\n",
    "#file = 'misat-B03-2011-2012-test.xml' # test without data\n",
    "test_file = os.path.join(save_path, file)\n",
    "\n",
    "# Load into the database (only if there is data)\n",
    "load_file(test_file)"
   ]
  },
  {
   "cell_type": "code",
   "execution_count": null,
   "metadata": {},
   "outputs": [],
   "source": [
    "%%time\n",
    "\n",
    "# Same as above cell but loads all files in a folder with Student data\n",
    "\n",
    "import os\n",
    "from lxml import etree\n",
    "\n",
    "# Get list of files\n",
    "all_files = os.listdir(save_path)\n",
    "# only files starting with misat\n",
    "misat_files = [i for i in all_files if 'misat' in i]\n",
    "# construct full filename\n",
    "misat_files = [os.path.join(save_path, i) for i in all_files]\n",
    "# process each file\n",
    "[load_file(i) for i in misat_files]"
   ]
  },
  {
   "cell_type": "code",
   "execution_count": null,
   "metadata": {},
   "outputs": [],
   "source": []
  }
 ],
 "metadata": {
  "jupytext": {
   "formats": "ipynb,auto:percent"
  },
  "kernelspec": {
   "display_name": "Python 3 (ipykernel)",
   "language": "python",
   "name": "python3"
  },
  "language_info": {
   "codemirror_mode": {
    "name": "ipython",
    "version": 3
   },
   "file_extension": ".py",
   "mimetype": "text/x-python",
   "name": "python",
   "nbconvert_exporter": "python",
   "pygments_lexer": "ipython3",
   "version": "3.11.9"
  }
 },
 "nbformat": 4,
 "nbformat_minor": 4
}
