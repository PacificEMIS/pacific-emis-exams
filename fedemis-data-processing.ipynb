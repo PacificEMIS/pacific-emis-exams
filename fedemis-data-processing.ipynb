{
 "cells": [
  {
   "cell_type": "code",
   "execution_count": 1,
   "metadata": {
    "autoscroll": false,
    "collapsed": false,
    "ein.hycell": false,
    "ein.tags": "worksheet-0",
    "jupyter": {
     "outputs_hidden": false
    },
    "slideshow": {
     "slide_type": "-"
    }
   },
   "outputs": [],
   "source": [
    "##########################################################################################\n",
    "# FSM data processing notebook \n",
    "# done in the past, putting here to make more general and re-usable\n",
    "##########################################################################################\n",
    "\n",
    "import pandas as pd\n",
    "import numpy as np\n",
    "import sys\n",
    "import os\n",
    "\n",
    "# To run this notebook or any cells of this notebook you would need both the exact same raw data spreadsheets\n",
    "# and to change the folder below and also the relative folders throughout the cells below\n",
    "fsmDir = '/Users/ghachey/Documents/JobsAndClients/Nuzusys/Clients/FederatedStatesOfMicronesiaPublicSchoolSystem/'"
   ]
  },
  {
   "cell_type": "code",
   "execution_count": 2,
   "metadata": {
    "autoscroll": false,
    "collapsed": false,
    "ein.hycell": false,
    "ein.tags": "worksheet-0",
    "jupyter": {
     "outputs_hidden": false
    },
    "slideshow": {
     "slide_type": "-"
    }
   },
   "outputs": [],
   "source": [
    "##########################################################################################\n",
    "# Process workbooks\n",
    "##########################################################################################\n",
    "rawWBChkData = os.path.join(fsmDir,'project-life-cycle/development-phase/data-collection-workbook/Chuuk_BOY_2017-2018.xlsm')\n",
    "rawWBKsaData = os.path.join(fsmDir,'project-life-cycle/development-phase/data-collection-workbook/Kosrae_BOY_2017-2018.xlsm')\n",
    "rawWBPniData = os.path.join(fsmDir,'project-life-cycle/development-phase/data-collection-workbook/PNI_BOY_ 2017-2018.xlsm')\n",
    "rawWBYapData = os.path.join(fsmDir,'project-life-cycle/development-phase/data-collection-workbook/Yap_BOY_2017-2018.xlsm')"
   ]
  },
  {
   "cell_type": "code",
   "execution_count": 3,
   "metadata": {
    "autoscroll": false,
    "collapsed": false,
    "ein.hycell": false,
    "ein.tags": "worksheet-0",
    "jupyter": {
     "outputs_hidden": false
    },
    "slideshow": {
     "slide_type": "-"
    }
   },
   "outputs": [],
   "source": [
    "chkSchoolsDF = pd.read_excel(rawWBChkData, sheet_name=['Schools'], header=2)['Schools']\n",
    "chkStudentsDF = pd.read_excel(rawWBChkData, sheet_name=['Students'], header=2)['Students']\n",
    "chkStaffsDFs = pd.read_excel(rawWBChkData, sheet_name=['SchoolStaff'], header=2)['SchoolStaff']\n",
    "chkWASHDFs = pd.read_excel(rawWBChkData, sheet_name=['WASH'], header=2)['WASH']\n",
    "\n",
    "ksaSchoolsDF = pd.read_excel(rawWBKsaData, sheet_name=['Schools'], header=2)['Schools']\n",
    "ksaStudentsDF = pd.read_excel(rawWBKsaData, sheet_name=['Students'], header=2)['Students']\n",
    "ksaStaffsDFs = pd.read_excel(rawWBKsaData, sheet_name=['SchoolStaff'], header=2)['SchoolStaff']\n",
    "ksaWASHDFs = pd.read_excel(rawWBKsaData, sheet_name=['WASH'], header=2)['WASH']\n",
    "\n",
    "pniSchoolsDF = pd.read_excel(rawWBPniData, sheet_name=['Schools'], header=2)['Schools']\n",
    "pniStudentsDF = pd.read_excel(rawWBPniData, sheet_name=['Students'], header=2)['Students']\n",
    "pniStaffsDFs = pd.read_excel(rawWBPniData, sheet_name=['SchoolStaff'], header=2)['SchoolStaff']\n",
    "pniWASHDFs = pd.read_excel(rawWBPniData, sheet_name=['WASH'], header=2)['WASH']\n",
    "\n",
    "yapSchoolsDF = pd.read_excel(rawWBYapData, sheet_name=['Schools'], header=2)['Schools']\n",
    "yapStudentsDF = pd.read_excel(rawWBYapData, sheet_name=['Students'], header=2)['Students']\n",
    "yapStaffsDFs = pd.read_excel(rawWBYapData, sheet_name=['SchoolStaff'], header=2)['SchoolStaff']\n",
    "yapWASHDFs = pd.read_excel(rawWBYapData, sheet_name=['WASH'], header=2)['WASH']"
   ]
  },
  {
   "cell_type": "code",
   "execution_count": 18,
   "metadata": {
    "autoscroll": false,
    "collapsed": false,
    "ein.hycell": false,
    "ein.tags": "worksheet-0",
    "jupyter": {
     "outputs_hidden": false
    },
    "slideshow": {
     "slide_type": "-"
    }
   },
   "outputs": [
    {
     "name": "stdout",
     "output_type": "stream",
     "text": [
      "chkSchools total:  80\n",
      "chkStudents total:  10839\n",
      "chkStaffs total:  920\n",
      "chkWASH total:  80\n",
      "\n",
      "\n",
      "ksaSchools total:  9\n",
      "ksaStudents total:  2013\n",
      "ksaStaffs total:  266\n",
      "ksaWASH total:  9\n",
      "\n",
      "\n",
      "pniSchools total:  40\n",
      "pniStudents total:  10307\n",
      "pniStaffs total:  740\n",
      "pniWASH total:  40\n",
      "\n",
      "\n",
      "yapSchools total:  58\n",
      "yapStudents total:  2911\n",
      "yapStaffs total:  544\n",
      "yapWASH total:  60\n",
      "\n",
      "\n"
     ]
    }
   ],
   "source": [
    "print(\"chkSchools total: \", len(chkSchoolsDF))\n",
    "print(\"chkStudents total: \", len(chkStudentsDF))\n",
    "print(\"chkStaffs total: \", len(chkStaffsDFs))\n",
    "print(\"chkWASH total: \", len(chkWASHDFs))\n",
    "print(\"\\n\")\n",
    "\n",
    "print(\"ksaSchools total: \", len(ksaSchoolsDF))\n",
    "print(\"ksaStudents total: \", len(ksaStudentsDF))\n",
    "print(\"ksaStaffs total: \", len(ksaStaffsDFs))\n",
    "print(\"ksaWASH total: \", len(ksaWASHDFs))\n",
    "print(\"\\n\")\n",
    "\n",
    "print(\"pniSchools total: \", len(pniSchoolsDF))\n",
    "print(\"pniStudents total: \", len(pniStudentsDF))\n",
    "print(\"pniStaffs total: \", len(pniStaffsDFs))\n",
    "print(\"pniWASH total: \", len(pniWASHDFs))\n",
    "print(\"\\n\")\n",
    "\n",
    "print(\"yapSchools total: \", len(yapSchoolsDF))\n",
    "print(\"yapStudents total: \", len(yapStudentsDF))\n",
    "print(\"yapStaffs total: \", len(yapStaffsDFs))\n",
    "print(\"yapWASH total: \", len(yapWASHDFs))\n",
    "print(\"\\n\")"
   ]
  },
  {
   "cell_type": "code",
   "execution_count": null,
   "metadata": {
    "autoscroll": false,
    "collapsed": false,
    "ein.hycell": false,
    "ein.tags": "worksheet-0",
    "jupyter": {
     "outputs_hidden": false
    },
    "slideshow": {
     "slide_type": "-"
    }
   },
   "outputs": [],
   "source": [
    "##########################################################################################\n",
    "# Process schools\n",
    "##########################################################################################\n",
    "outSchoolsData = os.path.join(fsmDir,'project-life-cycle/development-phase/data-collection-workbook/schools.xlsx')\n",
    "\n",
    "chkSchoolsDFs = pd.read_excel(rawWBChkData, sheet_name=['Schools'], header=2)\n",
    "ksaSchoolsDFs = pd.read_excel(rawWBKsaData, sheet_name=['Schools'], header=2)\n",
    "pniSchoolsDFs = pd.read_excel(rawWBPniData, sheet_name=['Schools'], header=2)\n",
    "yapSchoolsDFs = pd.read_excel(rawWBYapData, sheet_name=['Schools'], header=2)\n",
    "\n",
    "#['SchoolYear','State','School Name', 'School No', 'First Name', 'Middle Name', 'Last Name', 'Full Name', 'Gender', 'Date of Birth', 'Age', 'Citizenship', 'Ethnicity', 'FSM_SSN', 'Highest Qualification', 'Field of Study', 'Year of Completion', 'Employment Status', 'Job Title', 'Organization', 'Staff Type', 'Date of Hire', 'Date Of Exit', 'ECE', 'Grade 1', 'Grade 2', 'Grade 3', 'Grade 4', 'Grade 5', 'Grade 6', 'Grade 7', 'Grade 8', 'Grade 9', 'Grade 10', 'Grade 11', 'Grade 12','Admin'])\n",
    "\n",
    "\n",
    "chkSchoolsDF = chkSchoolsDFs['Schools']\n",
    "ksaSchoolsDF = ksaSchoolsDFs['Schools']\n",
    "pniSchoolsDF = pniSchoolsDFs['Schools']\n",
    "yapSchoolsDF = yapSchoolsDFs['Schools']\n",
    "\n",
    "statesSchoolsDF = chkSchoolsDF.append([ksaSchoolsDF, pniSchoolsDF, yapSchoolsDF], ignore_index=True)\n",
    "statesSchoolsDF"
   ]
  },
  {
   "cell_type": "code",
   "execution_count": 6,
   "metadata": {
    "autoscroll": false,
    "collapsed": false,
    "ein.hycell": false,
    "ein.tags": "worksheet-0",
    "jupyter": {
     "outputs_hidden": false
    },
    "slideshow": {
     "slide_type": "-"
    }
   },
   "outputs": [
    {
     "name": "stdout",
     "output_type": "stream",
     "text": [
      "Schools Total:  187\n",
      "Schools Chuuk Total:  80\n",
      "Schools Kosrae Total:  9\n",
      "Schools Pohnpei Total:  40\n",
      "Schools Yap Total:  58\n"
     ]
    }
   ],
   "source": [
    "##########################################################################################\n",
    "# Process total schools by state\n",
    "##########################################################################################\n",
    "print(\"Schools Total: \", len(statesSchoolsDF))\n",
    "print(\"Schools Chuuk Total: \", len(statesSchoolsDF[statesSchoolsDF['State'] == 'Chuuk']))\n",
    "print(\"Schools Kosrae Total: \", len(statesSchoolsDF[statesSchoolsDF['State'] == 'Kosrae']))\n",
    "print(\"Schools Pohnpei Total: \", len(statesSchoolsDF[statesSchoolsDF['State'] == 'Pohnpei']))\n",
    "print(\"Schools Yap Total: \", len(statesSchoolsDF[statesSchoolsDF['State'] == 'Yap']))"
   ]
  },
  {
   "cell_type": "code",
   "execution_count": null,
   "metadata": {
    "autoscroll": false,
    "collapsed": false,
    "ein.hycell": false,
    "ein.tags": "worksheet-0",
    "jupyter": {
     "outputs_hidden": false
    },
    "slideshow": {
     "slide_type": "-"
    }
   },
   "outputs": [],
   "source": [
    "##########################################################################################\n",
    "# Process teacher (all staff actually)\n",
    "##########################################################################################\n",
    "outTeachersData = os.path.join(fsmDir,'project-life-cycle/development-phase/data-collection-workbook/teachers.xlsx')\n",
    "\n",
    "chkDFs = pd.read_excel(rawWBChkData, sheet_name=['SchoolStaff'], header=2)\n",
    "ksaDFs = pd.read_excel(rawWBKsaData, sheet_name=['SchoolStaff'], header=2)\n",
    "pniDFs = pd.read_excel(rawWBPniData, sheet_name=['SchoolStaff'], header=2)\n",
    "yapDFs = pd.read_excel(rawWBYapData, sheet_name=['SchoolStaff'], header=2)\n",
    "\n",
    "#['SchoolYear','State','School Name', 'School No', 'First Name', 'Middle Name', 'Last Name', 'Full Name', 'Gender', 'Date of Birth', 'Age', 'Citizenship', 'Ethnicity', 'FSM_SSN', 'Highest Qualification', 'Field of Study', 'Year of Completion', 'Employment Status', 'Job Title', 'Organization', 'Staff Type', 'Date of Hire', 'Date Of Exit', 'ECE', 'Grade 1', 'Grade 2', 'Grade 3', 'Grade 4', 'Grade 5', 'Grade 6', 'Grade 7', 'Grade 8', 'Grade 9', 'Grade 10', 'Grade 11', 'Grade 12','Admin'])\n",
    "\n",
    "\n",
    "chkDF = chkDFs['SchoolStaff']\n",
    "ksaDF = ksaDFs['SchoolStaff']\n",
    "pniDF = pniDFs['SchoolStaff']\n",
    "yapDF = yapDFs['SchoolStaff']\n",
    "\n",
    "statesTeachersDF = chkDF.append([ksaDF, pniDF, yapDF], ignore_index=True)"
   ]
  },
  {
   "cell_type": "code",
   "execution_count": null,
   "metadata": {
    "autoscroll": false,
    "collapsed": false,
    "ein.hycell": false,
    "ein.tags": "worksheet-0",
    "jupyter": {
     "outputs_hidden": false
    },
    "slideshow": {
     "slide_type": "-"
    }
   },
   "outputs": [],
   "source": [
    "##########################################################################################\n",
    "# Process students\n",
    "##########################################################################################\n",
    "outStudentsData = os.path.join(fsmDir,'project-life-cycle/development-phase/data-collection-workbook/students.xlsx')\n",
    "\n",
    "chkStudentsDFs = pd.read_excel(rawWBChkData, sheet_name=['Students'], header=2)\n",
    "ksaStudentsDFs = pd.read_excel(rawWBKsaData, sheet_name=['Students'], header=2)\n",
    "pniStudentsDFs = pd.read_excel(rawWBPniData, sheet_name=['Students'], header=2)\n",
    "yapStudentsDFs = pd.read_excel(rawWBYapData, sheet_name=['Students'], header=2)\n",
    "\n",
    "chkStudentsDF = chkStudentsDFs['Students']\n",
    "ksaStudentsDF = ksaStudentsDFs['Students']\n",
    "pniStudentsDF = pniStudentsDFs['Students']\n",
    "yapStudentsDF = yapStudentsDFs['Students']\n",
    "\n",
    "statesStudentsDF = chkStudentsDF.append([ksaStudentsDF, pniStudentsDF, yapStudentsDF], ignore_index=True)\n",
    "\n",
    "statesStudentsDF"
   ]
  },
  {
   "cell_type": "code",
   "execution_count": 42,
   "metadata": {
    "autoscroll": false,
    "collapsed": false,
    "ein.hycell": false,
    "ein.tags": "worksheet-0",
    "jupyter": {
     "outputs_hidden": false
    },
    "slideshow": {
     "slide_type": "-"
    }
   },
   "outputs": [
    {
     "name": "stdout",
     "output_type": "stream",
     "text": [
      "States Students for SY2017-18:    First Name Last Name  State Grade Level  Age\n",
      "0      Bekos     Berry  Chuuk     Grade 1    6\n",
      "1   Jeininis     Romer  Chuuk     Grade 1    7\n",
      "2     Jenesa    Takesy  Chuuk     Grade 1    6\n",
      "Total Students for SY2017-18:  26070\n",
      "Grade Level:  ['Grade 1' 'Grade 10' 'Grade 11' 'Grade 12' 'Grade 2' 'Grade 3' 'Grade 4'\n",
      " 'Grade 5' 'Grade 6' 'Grade 7' 'Grade 8' 'Grade 9' 'Grade ECE' 'Grade 7 '\n",
      " 'Grade 3 ']\n",
      "Ages:  [ 0  3  4  5  6  7  8  9 10 11 12 13 14 15 16 17 18 19 20 21 22 23 24 25 26\n",
      " 27 31]\n",
      "State:  ['Chuuk' 'Kosrae' 'Pohnpei' 'Yap']\n",
      "\n",
      "\n",
      "Net Primary Students Total:  12730\n",
      "Net Primary Students Chuuk Total:  5231\n",
      "Net Primary Students Kosrae Total:  993\n",
      "Net Primary Students Pohnpei Total:  5455\n",
      "Net Primary Students Yap Total:  1051\n",
      "Net Secondary Students Total:  3208\n",
      "Net Secondary Students Chuuk Total:  1007\n",
      "Net Secondary Students Kosrae Total:  369\n",
      "Net Secondary Students Pohnpei Total:  1509\n",
      "Net Secondary Students Yap Total:  323\n"
     ]
    }
   ],
   "source": [
    "##########################################################################################\n",
    "# Process students in elementary and secondary of official age by state (net enrolments)\n",
    "##########################################################################################\n",
    "\n",
    "statesStudentsDF1 = statesStudentsDF[\n",
    "[\n",
    " 'First Name',\n",
    " 'Last Name',\n",
    " 'State',\n",
    " 'Grade Level',\n",
    " 'Age']\n",
    "]\n",
    "\n",
    "print(\"States Students for SY2017-18: \", statesStudentsDF1.head(3))\n",
    "print(\"Total Students for SY2017-18: \", len(statesStudentsDF))\n",
    "print(\"Grade Level: \", statesStudentsDF1['Grade Level'].unique())\n",
    "ages = statesStudentsDF1['Age'].unique()\n",
    "ages.sort()\n",
    "print(\"Ages: \", ages)\n",
    "print(\"State: \", statesStudentsDF1['State'].unique())\n",
    "print(\"\\n\")\n",
    "\n",
    "statesNetPrimaryStudentsDF = statesStudentsDF1[\n",
    "((statesStudentsDF1['Grade Level'] == 'Grade ECE') & (statesStudentsDF1['Age'] == 5)) |\n",
    "((statesStudentsDF1['Grade Level'] == 'Grade 1') & (statesStudentsDF1['Age'] == 6)) |\n",
    "((statesStudentsDF1['Grade Level'] == 'Grade 2') & (statesStudentsDF1['Age'] == 7)) |\n",
    "((statesStudentsDF1['Grade Level'] == 'Grade 3') & (statesStudentsDF1['Age'] == 8)) |\n",
    "((statesStudentsDF1['Grade Level'] == 'Grade 3 ') & (statesStudentsDF1['Age'] == 8)) |\n",
    "((statesStudentsDF1['Grade Level'] == 'Grade 4') & (statesStudentsDF1['Age'] == 9)) |\n",
    "((statesStudentsDF1['Grade Level'] == 'Grade 5') & (statesStudentsDF1['Age'] == 10)) |\n",
    "((statesStudentsDF1['Grade Level'] == 'Grade 6') & (statesStudentsDF1['Age'] == 11)) |\n",
    "((statesStudentsDF1['Grade Level'] == 'Grade 7') & (statesStudentsDF1['Age'] == 12)) |\n",
    "((statesStudentsDF1['Grade Level'] == 'Grade 7 ') & (statesStudentsDF1['Age'] == 12)) |\n",
    "((statesStudentsDF1['Grade Level'] == 'Grade 8') & (statesStudentsDF1['Age'] == 13))]\n",
    "\n",
    "#print(\"Primary Students: \", statesNetPrimaryStudentsDF.count())\n",
    "print(\"Net Primary Students Total: \", len(statesNetPrimaryStudentsDF))\n",
    "#print(\"Primary Students Chuuk: \", statesNetPrimaryStudentsDF[statesNetPrimaryStudentsDF['State'] == 'Chuuk'].count())\n",
    "print(\"Net Primary Students Chuuk Total: \", len(statesNetPrimaryStudentsDF[statesNetPrimaryStudentsDF['State'] == 'Chuuk']))\n",
    "#print(\"Primary Students Kosrae: \", statesNetPrimaryStudentsDF[statesNetPrimaryStudentsDF['State'] == 'Kosrae'].count())\n",
    "print(\"Net Primary Students Kosrae Total: \", len(statesNetPrimaryStudentsDF[statesNetPrimaryStudentsDF['State'] == 'Kosrae']))\n",
    "#print(\"Primary Students Pohnpei: \", statesNetPrimaryStudentsDF[statesNetPrimaryStudentsDF['State'] == 'Pohnpei'].count())\n",
    "print(\"Net Primary Students Pohnpei Total: \", len(statesNetPrimaryStudentsDF[statesNetPrimaryStudentsDF['State'] == 'Pohnpei']))\n",
    "#print(\"Primary Students Yap: \", statesNetPrimaryStudentsDF[statesNetPrimaryStudentsDF['State'] == 'Yap'].count())\n",
    "print(\"Net Primary Students Yap Total: \", len(statesNetPrimaryStudentsDF[statesNetPrimaryStudentsDF['State'] == 'Yap']))\n",
    "\n",
    "statesNetSecondaryStudentsDF = statesStudentsDF1[\n",
    "((statesStudentsDF1['Grade Level'] == 'Grade 9') & (statesStudentsDF1['Age'] == 14)) |\n",
    "((statesStudentsDF1['Grade Level'] == 'Grade 10') & (statesStudentsDF1['Age'] == 15)) |\n",
    "((statesStudentsDF1['Grade Level'] == 'Grade 11') & (statesStudentsDF1['Age'] == 16)) |\n",
    "((statesStudentsDF1['Grade Level'] == 'Grade 12') & (statesStudentsDF1['Age'] == 17))]\n",
    "\n",
    "#print(\"Secondary Students: \", statesNetSecondaryStudentsDF.count())\n",
    "print(\"Net Secondary Students Total: \", len(statesNetSecondaryStudentsDF))\n",
    "#print(\"Secondary Students Chuuk: \", statesNetSecondaryStudentsDF[statesNetSecondaryStudentsDF['State'] == 'Chuuk'].count())\n",
    "print(\"Net Secondary Students Chuuk Total: \", len(statesNetSecondaryStudentsDF[statesNetSecondaryStudentsDF['State'] == 'Chuuk']))\n",
    "#print(\"Secondary Students Kosrae: \", statesNetSecondaryStudentsDF[statesNetSecondaryStudentsDF['State'] == 'Kosrae'].count())\n",
    "print(\"Net Secondary Students Kosrae Total: \", len(statesNetSecondaryStudentsDF[statesNetSecondaryStudentsDF['State'] == 'Kosrae']))\n",
    "#print(\"Secondary Students Pohnpei: \", statesNetSecondaryStudentsDF[statesNetSecondaryStudentsDF['State'] == 'Pohnpei'].count())\n",
    "print(\"Net Secondary Students Pohnpei Total: \", len(statesNetSecondaryStudentsDF[statesNetSecondaryStudentsDF['State'] == 'Pohnpei']))\n",
    "#print(\"Secondary Students Yap: \", statesNetSecondaryStudentsDF[statesNetSecondaryStudentsDF['State'] == 'Yap'].count())\n",
    "print(\"Net Secondary Students Yap Total: \", len(statesNetSecondaryStudentsDF[statesNetSecondaryStudentsDF['State'] == 'Yap']))\n",
    "\n"
   ]
  },
  {
   "cell_type": "code",
   "execution_count": 40,
   "metadata": {
    "autoscroll": false,
    "collapsed": false,
    "ein.hycell": false,
    "ein.tags": "worksheet-0",
    "jupyter": {
     "outputs_hidden": false
    },
    "slideshow": {
     "slide_type": "-"
    }
   },
   "outputs": [
    {
     "name": "stdout",
     "output_type": "stream",
     "text": [
      "States Students:    First Name Last Name  State Grade Level  Age\n",
      "0      Bekos     Berry  Chuuk     Grade 1    6\n",
      "1   Jeininis     Romer  Chuuk     Grade 1    7\n",
      "2     Jenesa    Takesy  Chuuk     Grade 1    6\n",
      "Grade Level:  ['Grade 1' 'Grade 10' 'Grade 11' 'Grade 12' 'Grade 2' 'Grade 3' 'Grade 4'\n",
      " 'Grade 5' 'Grade 6' 'Grade 7' 'Grade 8' 'Grade 9' 'Grade ECE' 'Grade 7 '\n",
      " 'Grade 3 ']\n",
      "State:  ['Chuuk' 'Kosrae' 'Pohnpei' 'Yap']\n",
      "\n",
      "\n",
      "Primary Students Total:  19737\n",
      "Primary Students Chuuk Total:  8613\n",
      "Primary Students Kosrae Total:  1382\n",
      "Primary Students Pohnpei Total:  7660\n",
      "Primary Students Yap Total:  2082\n",
      "Secondary Students Total:  6333\n",
      "Secondary Students Chuuk Total:  2226\n",
      "Secondary Students Kosrae Total:  631\n",
      "Secondary Students Pohnpei Total:  2647\n",
      "Secondary Students Yap Total:  829\n"
     ]
    }
   ],
   "source": [
    "##########################################################################################\n",
    "# Process active students in elementary and secondary by state (total enrolments)\n",
    "##########################################################################################\n",
    "\n",
    "statesStudentsDF1 = statesStudentsDF[\n",
    "[\n",
    " 'First Name',\n",
    " 'Last Name',\n",
    " 'State',\n",
    " 'Grade Level',\n",
    " 'Age']\n",
    "]\n",
    "\n",
    "print(\"States Students: \", statesStudentsDF1.head(3))\n",
    "print(\"Grade Level: \", statesStudentsDF1['Grade Level'].unique())\n",
    "print(\"State: \", statesStudentsDF1['State'].unique())\n",
    "print(\"\\n\")\n",
    "\n",
    "statesActivePrimaryStudentsDF = statesStudentsDF1[\n",
    "(statesStudentsDF1['Grade Level'] == 'Grade ECE') |\n",
    "(statesStudentsDF1['Grade Level'] == 'Grade 1') |\n",
    "(statesStudentsDF1['Grade Level'] == 'Grade 2') |\n",
    "(statesStudentsDF1['Grade Level'] == 'Grade 3') |\n",
    "(statesStudentsDF1['Grade Level'] == 'Grade 3 ') |\n",
    "(statesStudentsDF1['Grade Level'] == 'Grade 4') |\n",
    "(statesStudentsDF1['Grade Level'] == 'Grade 5') |\n",
    "(statesStudentsDF1['Grade Level'] == 'Grade 6') |\n",
    "(statesStudentsDF1['Grade Level'] == 'Grade 7') |\n",
    "(statesStudentsDF1['Grade Level'] == 'Grade 7 ') |\n",
    "(statesStudentsDF1['Grade Level'] == 'Grade 8')]\n",
    "\n",
    "#print(\"Primary Students: \", statesActivePrimaryStudentsDF.count())\n",
    "print(\"Primary Students Total: \", len(statesActivePrimaryStudentsDF))\n",
    "#print(\"Primary Students Chuuk: \", statesActivePrimaryStudentsDF[statesActivePrimaryStudentsDF['State'] == 'Chuuk'].count())\n",
    "print(\"Primary Students Chuuk Total: \", len(statesActivePrimaryStudentsDF[statesActivePrimaryStudentsDF['State'] == 'Chuuk']))\n",
    "#print(\"Primary Students Kosrae: \", statesActivePrimaryStudentsDF[statesActivePrimaryStudentsDF['State'] == 'Kosrae'].count())\n",
    "print(\"Primary Students Kosrae Total: \", len(statesActivePrimaryStudentsDF[statesActivePrimaryStudentsDF['State'] == 'Kosrae']))\n",
    "#print(\"Primary Students Pohnpei: \", statesActivePrimaryStudentsDF[statesActivePrimaryStudentsDF['State'] == 'Pohnpei'].count())\n",
    "print(\"Primary Students Pohnpei Total: \", len(statesActivePrimaryStudentsDF[statesActivePrimaryStudentsDF['State'] == 'Pohnpei']))\n",
    "#print(\"Primary Students Yap: \", statesActivePrimaryStudentsDF[statesActivePrimaryStudentsDF['State'] == 'Yap'].count())\n",
    "print(\"Primary Students Yap Total: \", len(statesActivePrimaryStudentsDF[statesActivePrimaryStudentsDF['State'] == 'Yap']))\n",
    "\n",
    "statesActiveSecondaryStudentsDF = statesStudentsDF1[\n",
    "(statesStudentsDF1['Grade Level'] == 'Grade 9') |\n",
    "(statesStudentsDF1['Grade Level'] == 'Grade 10') |\n",
    "(statesStudentsDF1['Grade Level'] == 'Grade 11') |\n",
    "(statesStudentsDF1['Grade Level'] == 'Grade 12')]\n",
    "\n",
    "#print(\"Secondary Students: \", statesActiveSecondaryStudentsDF.count())\n",
    "print(\"Secondary Students Total: \", len(statesActiveSecondaryStudentsDF))\n",
    "#print(\"Secondary Students Chuuk: \", statesActiveSecondaryStudentsDF[statesActiveSecondaryStudentsDF['State'] == 'Chuuk'].count())\n",
    "print(\"Secondary Students Chuuk Total: \", len(statesActiveSecondaryStudentsDF[statesActiveSecondaryStudentsDF['State'] == 'Chuuk']))\n",
    "#print(\"Secondary Students Kosrae: \", statesActiveSecondaryStudentsDF[statesActiveSecondaryStudentsDF['State'] == 'Kosrae'].count())\n",
    "print(\"Secondary Students Kosrae Total: \", len(statesActiveSecondaryStudentsDF[statesActiveSecondaryStudentsDF['State'] == 'Kosrae']))\n",
    "#print(\"Secondary Students Pohnpei: \", statesActiveSecondaryStudentsDF[statesActiveSecondaryStudentsDF['State'] == 'Pohnpei'].count())\n",
    "print(\"Secondary Students Pohnpei Total: \", len(statesActiveSecondaryStudentsDF[statesActiveSecondaryStudentsDF['State'] == 'Pohnpei']))\n",
    "#print(\"Secondary Students Yap: \", statesActiveSecondaryStudentsDF[statesActiveSecondaryStudentsDF['State'] == 'Yap'].count())\n",
    "print(\"Secondary Students Yap Total: \", len(statesActiveSecondaryStudentsDF[statesActiveSecondaryStudentsDF['State'] == 'Yap']))\n"
   ]
  },
  {
   "cell_type": "code",
   "execution_count": null,
   "metadata": {
    "autoscroll": false,
    "collapsed": false,
    "ein.hycell": false,
    "ein.tags": "worksheet-0",
    "jupyter": {
     "outputs_hidden": false
    },
    "slideshow": {
     "slide_type": "-"
    }
   },
   "outputs": [],
   "source": [
    "##########################################################################################\n",
    "# Process teachers teaching Grade 5 and 7\n",
    "##########################################################################################\n",
    "\n",
    "#statesTeachersDF = statesTeachersDF[(statesTeachersDF['Staff Type'] == 'Teaching Staff')]\n",
    "statesTeachersDF = statesTeachersDF[(statesTeachersDF['Staff Type'] == 'Teaching Staff') & ((statesTeachersDF['Grade 5'] == 'x') | (statesTeachersDF['Grade 7'] == 'x') | (statesTeachersDF['Grade 5'] == 'X') | (statesTeachersDF['Grade 7'] == 'X'))]\n",
    "\n",
    "statesTeachersDF.drop(['School Type', 'Office', 'OTHER_SSN', 'Highest Ed Qualification', 'Year Of Completion2', 'Reason', 'Teacher-Type', 'Annual Salary', 'Funding Source', 'Other', 'Total Days Absence', 'Admin', 'Maths', 'Science', 'Language', 'Competency', 'Age', 'Citizenship', 'Date Of Exit', 'Date of Birth', 'Ethnicity', 'Field of STudy', 'Field of Study', 'Organization', 'Year of Completion', 'ECE', 'Grade 1', 'Grade 2', 'Grade 3', 'Grade 4', 'Grade 6', 'Grade 8', 'Grade 9', 'Grade 10', 'Grade 11', 'Grade 12'], inplace=True, axis='columns') # , 'Staff Type'\n",
    "\n",
    "statesTeachersDF = statesTeachersDF.reindex(columns = ['State','School Name', 'School No', 'SchoolYear', 'Full Name', 'First Name', 'Middle Name', 'Last Name', 'Gender', 'FSM_SSN', 'Date of Hire', 'Employment Status', 'Grade 5', 'Grade 7', 'Highest Qualification', 'Job Title', 'Staff Type'])\n",
    "\n",
    "\n",
    "# Writing data to sheets\n",
    "writer = pd.ExcelWriter(outTeachersData)\n",
    "statesTeachersDF.to_excel(writer, sheet_name='Teachers', index=False)\n",
    "writer.save()"
   ]
  },
  {
   "cell_type": "code",
   "execution_count": 46,
   "metadata": {
    "autoscroll": false,
    "collapsed": false,
    "ein.hycell": false,
    "ein.tags": "worksheet-0",
    "jupyter": {
     "outputs_hidden": false
    },
    "slideshow": {
     "slide_type": "-"
    }
   },
   "outputs": [
    {
     "name": "stdout",
     "output_type": "stream",
     "text": [
      "Employment Status:  ['Active' 'Inactive' 'In-Active' nan]\n",
      "Staff Type:  ['Non Teaching Staff' 'Teaching Staff' nan]\n",
      "State:  ['Chuuk' 'Kosrae' 'Pohnpei' 'Yap']\n",
      "Teacher-Type:  [nan 'Regular' 'Special Ed' 'AVS II' 'SM' 'Volunteer' 'ECE' 'SEG' 'Other']\n",
      "Grades:  [nan 'X' 'x']\n",
      "\n",
      "\n",
      "Primary Teachers Total:  1033\n",
      "Primary Teachers Chuuk Total:  340\n",
      "Primary Teachers Kosrae Total:  98\n",
      "Primary Teachers Pohnpei Total:  323\n",
      "Primary Teachers Yap Total:  272\n",
      "Secondary Teachers Total:  284\n",
      "Secondary Teachers Chuuk Total:  91\n",
      "Secondary Teachers Kosrae Total:  38\n",
      "Secondary Teachers Pohnpei Total:  73\n",
      "Secondary Teachers Yap Total:  82\n"
     ]
    }
   ],
   "source": [
    "##########################################################################################\n",
    "# Process active teachers in elementary and secondary by state\n",
    "##########################################################################################\n",
    "\n",
    "statesTeachersDF1 = statesTeachersDF[\n",
    "[\n",
    " #'Date of Birth',\n",
    " #'SchoolYear', \n",
    " 'First Name',\n",
    " 'Last Name',\n",
    " 'Employment Status',\n",
    " 'Staff Type',\n",
    " 'State',\n",
    " 'Teacher-Type',\n",
    " 'ECE',\n",
    " #'Gender',\n",
    " 'Grade 1',\n",
    " 'Grade 10',\n",
    " 'Grade 11',\n",
    " 'Grade 12',\n",
    " 'Grade 2',\n",
    " 'Grade 3',\n",
    " 'Grade 4',\n",
    " 'Grade 5',\n",
    " 'Grade 6',\n",
    " 'Grade 7',\n",
    " 'Grade 8',\n",
    " 'Grade 9',\n",
    " #'Highest Ed Qualification',\n",
    " #'Highest Qualification',\n",
    " #'Job Title',\n",
    " #'Middle Name',\n",
    " #'School Name',\n",
    " #'School No',\n",
    " ]\n",
    "]\n",
    "\n",
    "print(\"Employment Status: \", statesTeachersDF1['Employment Status'].unique())\n",
    "print(\"Staff Type: \", statesTeachersDF1['Staff Type'].unique())\n",
    "print(\"State: \", statesTeachersDF1['State'].unique())\n",
    "print(\"Teacher-Type: \", statesTeachersDF1['Teacher-Type'].unique())\n",
    "print(\"Grades: \", pd.unique(statesTeachersDF1[['ECE', 'Grade 1', 'Grade 2', 'Grade 3', 'Grade 4', 'Grade 5', 'Grade 6', 'Grade 7', 'Grade 8', 'Grade 9', 'Grade 10', 'Grade 11', 'Grade 12']].values.ravel('K')))\n",
    "print(\"\\n\")\n",
    "\n",
    "statesActivePrimaryTeachersDF = statesTeachersDF1[\n",
    "(statesTeachersDF1['Employment Status'] == 'Active') &\n",
    "(statesTeachersDF1['Staff Type'] == 'Teaching Staff') &\n",
    "(((statesTeachersDF1['ECE'] == 'X') | (statesTeachersDF1['ECE'] == 'x')) |\n",
    "((statesTeachersDF1['Grade 1'] == 'X') | (statesTeachersDF1['Grade 1'] == 'x')) |\n",
    "((statesTeachersDF1['Grade 2'] == 'X') | (statesTeachersDF1['Grade 2'] == 'x')) |\n",
    "((statesTeachersDF1['Grade 3'] == 'X') | (statesTeachersDF1['Grade 3'] == 'x')) |\n",
    "((statesTeachersDF1['Grade 4'] == 'X') | (statesTeachersDF1['Grade 4'] == 'x')) |\n",
    "((statesTeachersDF1['Grade 5'] == 'X') | (statesTeachersDF1['Grade 5'] == 'x')) |\n",
    "((statesTeachersDF1['Grade 6'] == 'X') | (statesTeachersDF1['Grade 6'] == 'x')) |\n",
    "((statesTeachersDF1['Grade 7'] == 'X') | (statesTeachersDF1['Grade 7'] == 'x')) |\n",
    "((statesTeachersDF1['Grade 8'] == 'X') | (statesTeachersDF1['Grade 8'] == 'x')))]\n",
    "\n",
    "#print(\"Primary Teachers: \", statesActivePrimaryTeachersDF.count())\n",
    "print(\"Primary Teachers Total: \", len(statesActivePrimaryTeachersDF))\n",
    "#print(\"Primary Teachers Chuuk: \", statesActivePrimaryTeachersDF[statesActivePrimaryTeachersDF['State'] == 'Chuuk'].count())\n",
    "print(\"Primary Teachers Chuuk Total: \", len(statesActivePrimaryTeachersDF[statesActivePrimaryTeachersDF['State'] == 'Chuuk']))\n",
    "#print(\"Primary Teachers Kosrae: \", statesActivePrimaryTeachersDF[statesActivePrimaryTeachersDF['State'] == 'Kosrae'].count())\n",
    "print(\"Primary Teachers Kosrae Total: \", len(statesActivePrimaryTeachersDF[statesActivePrimaryTeachersDF['State'] == 'Kosrae']))\n",
    "#print(\"Primary Teachers Pohnpei: \", statesActivePrimaryTeachersDF[statesActivePrimaryTeachersDF['State'] == 'Pohnpei'].count())\n",
    "print(\"Primary Teachers Pohnpei Total: \", len(statesActivePrimaryTeachersDF[statesActivePrimaryTeachersDF['State'] == 'Pohnpei']))\n",
    "#print(\"Primary Teachers Yap: \", statesActivePrimaryTeachersDF[statesActivePrimaryTeachersDF['State'] == 'Yap'].count())\n",
    "print(\"Primary Teachers Yap Total: \", len(statesActivePrimaryTeachersDF[statesActivePrimaryTeachersDF['State'] == 'Yap']))\n",
    "\n",
    "statesActiveSecondaryTeachersDF = statesTeachersDF1[\n",
    "(statesTeachersDF1['Employment Status'] == 'Active') &\n",
    "(statesTeachersDF1['Staff Type'] == 'Teaching Staff') &\n",
    "(((statesTeachersDF1['Grade 9'] == 'X') | (statesTeachersDF1['Grade 9'] == 'x')) |\n",
    "((statesTeachersDF1['Grade 10'] == 'X') | (statesTeachersDF1['Grade 10'] == 'x')) |\n",
    "((statesTeachersDF1['Grade 11'] == 'X') | (statesTeachersDF1['Grade 11'] == 'x')) |\n",
    "((statesTeachersDF1['Grade 12'] == 'X') | (statesTeachersDF1['Grade 12'] == 'x')))]\n",
    "\n",
    "#print(\"Secondary Teachers: \", statesActiveSecondaryTeachersDF.count())\n",
    "print(\"Secondary Teachers Total: \", len(statesActiveSecondaryTeachersDF))\n",
    "#print(\"Secondary Teachers Chuuk: \", statesActiveSecondaryTeachersDF[statesActiveSecondaryTeachersDF['State'] == 'Chuuk'].count())\n",
    "print(\"Secondary Teachers Chuuk Total: \", len(statesActiveSecondaryTeachersDF[statesActiveSecondaryTeachersDF['State'] == 'Chuuk']))\n",
    "#print(\"Secondary Teachers Kosrae: \", statesActiveSecondaryTeachersDF[statesActiveSecondaryTeachersDF['State'] == 'Kosrae'].count())\n",
    "print(\"Secondary Teachers Kosrae Total: \", len(statesActiveSecondaryTeachersDF[statesActiveSecondaryTeachersDF['State'] == 'Kosrae']))\n",
    "#print(\"Secondary Teachers Pohnpei: \", statesActiveSecondaryTeachersDF[statesActiveSecondaryTeachersDF['State'] == 'Pohnpei'].count())\n",
    "print(\"Secondary Teachers Pohnpei Total: \", len(statesActiveSecondaryTeachersDF[statesActiveSecondaryTeachersDF['State'] == 'Pohnpei']))\n",
    "#print(\"Secondary Teachers Yap: \", statesActiveSecondaryTeachersDF[statesActiveSecondaryTeachersDF['State'] == 'Yap'].count())\n",
    "print(\"Secondary Teachers Yap Total: \", len(statesActiveSecondaryTeachersDF[statesActiveSecondaryTeachersDF['State'] == 'Yap']))\n",
    "\n",
    "# Writing data to sheets\n",
    "# writer = pd.ExcelWriter(outTeachersData)\n",
    "# statesTeachersDF.to_excel(writer, sheet_name='Teachers', index=False)\n",
    "# writer.save()"
   ]
  },
  {
   "cell_type": "code",
   "execution_count": 11,
   "metadata": {
    "autoscroll": false,
    "collapsed": false,
    "ein.hycell": false,
    "ein.tags": "worksheet-0",
    "jupyter": {
     "outputs_hidden": false
    },
    "slideshow": {
     "slide_type": "-"
    }
   },
   "outputs": [
    {
     "name": "stdout",
     "output_type": "stream",
     "text": [
      "Students Total:  26070\n",
      "Students Chuuk Total:  10839\n",
      "Students Kosrae Total:  2013\n",
      "Students Pohnpei Total:  10307\n",
      "Students Yap Total:  2911\n"
     ]
    }
   ],
   "source": [
    "print(\"Students Total: \", len(statesStudentsDF1))\n",
    "print(\"Students Chuuk Total: \", len(statesStudentsDF1[statesStudentsDF1['State'] == 'Chuuk']))\n",
    "print(\"Students Kosrae Total: \", len(statesStudentsDF1[statesStudentsDF1['State'] == 'Kosrae']))\n",
    "print(\"Students Pohnpei Total: \", len(statesStudentsDF1[statesStudentsDF1['State'] == 'Pohnpei']))\n",
    "print(\"Students Yap Total: \", len(statesStudentsDF1[statesStudentsDF1['State'] == 'Yap']))\n"
   ]
  },
  {
   "cell_type": "code",
   "execution_count": null,
   "metadata": {
    "autoscroll": false,
    "collapsed": false,
    "ein.hycell": false,
    "ein.tags": "worksheet-0",
    "jupyter": {
     "outputs_hidden": false
    },
    "slideshow": {
     "slide_type": "-"
    }
   },
   "outputs": [],
   "source": [
    "# Extra data directly from FedEMIS\n",
    "\n",
    "# SY2016-17 (this quite closely lines up with previously given data in CombinedData spreadsheet)\n",
    "# Elementary => 20161\n",
    "# Secondary => 6214\n",
    "# Chuuk Elementary => 904 + 8350 = 9254\n",
    "# Chuuk Secondary => 2328\n",
    "# Kosrae Elementary => 188 + 1236 = 1424\n",
    "# Kosrae Secondary => 642\n",
    "# Pohnpei Elementary => 659 + 6586 = 7245\n",
    "# Pohnpei Secondary => 2383\n",
    "# Yap Elementary => 388 + 1850 = 2238\n",
    "# Yap Secondary => 861\n",
    "\n",
    "# SY2017-18 (this does not line up with data from workbook, some duplicates in there? missing data?)\n",
    "# Elementary => 20228\n",
    "# Secondary => 6354\n",
    "\n",
    "# From workbook manually to validate my numbers in previous cells (this matches and therefore my pandas processing seems correct)\n",
    "# State CountFromWorkbook (Summed from processed figures above)\n",
    "# Chuuk 10839 (10839)\n",
    "# Kosrae 2013 (2013)\n",
    "# Yap 2911 (2911)\n",
    "# Pohnei 10307 (10307)\n",
    "# Total 26070 (26070)\n",
    "\n",
    "# First my pandas processed number then the number from XML vermpaf\n",
    "Primary Students Total:  19737\n",
    "Primary Students Chuuk Total:  8613 (10279)\n",
    "Primary Students Kosrae Total:  1382 (1382)\n",
    "Primary Students Pohnpei Total:  7660 (7594)\n",
    "Primary Students Yap Total:  2082 (2156)\n",
    "Secondary Students Total:  6333\n",
    "Secondary Students Chuuk Total:  2226 (2237)\n",
    "Secondary Students Kosrae Total:  631 (630)\n",
    "Secondary Students Pohnpei Total:  2647 (2657)\n",
    "Secondary Students Yap Total:  829 (830)"
   ]
  }
 ],
 "metadata": {
  "kernelspec": {
   "display_name": "Python 3",
   "language": "python",
   "name": "python3"
  },
  "language_info": {
   "codemirror_mode": {
    "name": "ipython",
    "version": 3
   },
   "file_extension": ".py",
   "mimetype": "text/x-python",
   "name": "python",
   "nbconvert_exporter": "python",
   "pygments_lexer": "ipython3",
   "version": "3.8.7"
  },
  "name": "fedemis-data-processing.ipynb"
 },
 "nbformat": 4,
 "nbformat_minor": 4
}
